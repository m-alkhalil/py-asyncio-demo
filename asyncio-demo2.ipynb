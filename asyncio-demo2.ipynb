{
 "cells": [
  {
   "cell_type": "markdown",
   "metadata": {},
   "source": [
    "let's assume there is smart kitchen system in place,  it has 2 tasks simulation to perform:\n",
    "    - run the dish washer wich will take 4 seconds\n",
    "    - open the kitchen windows which takes 2 seconds"
   ]
  },
  {
   "cell_type": "code",
   "execution_count": 2,
   "metadata": {},
   "outputs": [],
   "source": [
    "import time\n",
    "\n",
    "def washDishes():\n",
    "    print(\"Dish washing machine started...\")\n",
    "    time.sleep(4)\n",
    "    print(\"Dish washing machine finished\")\n",
    "\n",
    "def openWidnows():\n",
    "    print(\"opening the kitchen windows...\")\n",
    "    time.sleep(2)\n",
    "    print(\"opening windows completed...\")"
   ]
  },
  {
   "cell_type": "markdown",
   "metadata": {},
   "source": [
    "now let's execute both tasks and record the overall time the system took to finish"
   ]
  },
  {
   "cell_type": "code",
   "execution_count": 3,
   "metadata": {},
   "outputs": [
    {
     "name": "stdout",
     "output_type": "stream",
     "text": [
      "Dish washing machine started...\n",
      "Dish washing machine finished\n",
      "opening the kitchen windows...\n",
      "opening windows completed...\n",
      "Total execution time is: 6.00\n"
     ]
    }
   ],
   "source": [
    "def main():\n",
    "    start_time = time.time()\n",
    "    washDishes()\n",
    "    openWidnows()\n",
    "    end_time = time.time()\n",
    "\n",
    "    # calculate time diference to obtain the execution time\n",
    "    execution_time = end_time - start_time\n",
    "\n",
    "    print(f\"Total execution time is: {execution_time:.2f}\")\n",
    "\n",
    "\n",
    "main()"
   ]
  },
  {
   "cell_type": "markdown",
   "metadata": {},
   "source": [
    "the total time it took the system to execute both tasks is 6 seconds."
   ]
  }
 ],
 "metadata": {
  "kernelspec": {
   "display_name": "Python 3",
   "language": "python",
   "name": "python3"
  },
  "language_info": {
   "codemirror_mode": {
    "name": "ipython",
    "version": 3
   },
   "file_extension": ".py",
   "mimetype": "text/x-python",
   "name": "python",
   "nbconvert_exporter": "python",
   "pygments_lexer": "ipython3",
   "version": "3.12.1"
  }
 },
 "nbformat": 4,
 "nbformat_minor": 2
}
