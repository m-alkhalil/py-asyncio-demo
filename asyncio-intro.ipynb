{
 "cells": [
  {
   "cell_type": "markdown",
   "metadata": {},
   "source": [
    "asyncio is a python library to write an asynchronous code, when a task-/operation/block of code- is asynchronous the program doesn’t need to wait for it to finish before moving on to the next task. It can perform other work while waiting.\n",
    "\n",
    "A mechanism called Event Loop runs and schedules tasks, switching between them when they are waiting (for example, waiting for a response from a database). The event loop allows other tasks to execute while others are waiting\n",
    "\n",
    "Any function that uses async def and can pause its execution (with await) to allow other coroutines to run is called Coroutine. Coroutines cbasically are the \"tasks\" that you can await.\n",
    "\n",
    "await: Pauses the execution of a coroutine until the awaited task is done. While waiting, the event loop can run other tasks."
   ]
  },
  {
   "cell_type": "markdown",
   "metadata": {},
   "source": [
    "Keywords:\n",
    "    - async\n",
    "    - await\n",
    "\n",
    "asyncio basic syntax:\n",
    "\n",
    "- import the library: import asyncio\n",
    "- any function defined using the keyword async is a Coroutine ex: async def doSomething():\n",
    "- a Coroutine must await at somepoint \n",
    "- await is placed at a point where it is safe to pause the execution \n",
    "- to run Coroutines, the entry point Coroutine/function is passed to asyncio.run(entryPoint())"
   ]
  },
  {
   "cell_type": "code",
   "execution_count": 1,
   "metadata": {},
   "outputs": [],
   "source": [
    "import asyncio\n",
    "\n",
    "async def washDishes():\n",
    "    #tasks\n",
    "    # ..\n",
    "    # ...\n",
    "    await asyncio.sleep(3) ## when the execution reach this statment, th Event Loop will start anothother Coroutines\n",
    "    #tasks\n",
    "    # ..\n",
    "    # ..."
   ]
  },
  {
   "cell_type": "code",
   "execution_count": null,
   "metadata": {},
   "outputs": [],
   "source": [
    "# Run Coroutines with main() as entry point: pass main() to asyncio.run()\n",
    "\n",
    "async main():\n",
    "\n",
    "    # tasks\n",
    "    #  ..\n",
    "    #  ...\n",
    "\n",
    "\n",
    "\n",
    "asyncio.run(main)"
   ]
  },
  {
   "cell_type": "markdown",
   "metadata": {},
   "source": [
    "asyncio methods:\n",
    "\n",
    "    - asyncio.sleep(): awaitable function, the time.sleep() is not awaitable\n",
    "    - await asyncio.gather(Coroutine1,Coroutines2,...., return_exceptions=True) : used to run multiple asynchronous functions concurrently and wait for all of them to complete. it comes after await keyword to let it await for all Coroutines to finish. The return_exceptions=True allows to handle exceptions if any raises by one of the tasks."
   ]
  },
  {
   "cell_type": "markdown",
   "metadata": {},
   "source": [
    "asyncio Tasks\n",
    "\n",
    "instead of using a gather function, asycio offer an alternative way to create tasks and await for their results, as demonstrated in app.py file, it perform as fast as gather() but in some cases it might be slightly different from gather()."
   ]
  }
 ],
 "metadata": {
  "kernelspec": {
   "display_name": "Python 3",
   "language": "python",
   "name": "python3"
  },
  "language_info": {
   "codemirror_mode": {
    "name": "ipython",
    "version": 3
   },
   "file_extension": ".py",
   "mimetype": "text/x-python",
   "name": "python",
   "nbconvert_exporter": "python",
   "pygments_lexer": "ipython3",
   "version": "3.12.1"
  }
 },
 "nbformat": 4,
 "nbformat_minor": 2
}
