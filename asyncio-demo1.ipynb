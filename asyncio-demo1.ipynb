{
 "cells": [
  {
   "cell_type": "markdown",
   "metadata": {},
   "source": [
    "This notebook provides the same program but using asyncio which shows how it can reduce the execution time, and we can improve the execution time by overlaping tasks execution."
   ]
  },
  {
   "cell_type": "code",
   "execution_count": null,
   "metadata": {},
   "outputs": [],
   "source": [
    "import time\n",
    "import asyncio\n",
    "#any function ha sawait keyword must be async\n",
    "\n",
    "async def washDishes():\n",
    "    print(\"Dish washing machine started...\")\n",
    "    await asyncio.sleep(4)\n",
    "    print(\"Dish washing machine finished\")\n",
    "    return \"Dish Washing Completed!\"\n",
    "\n",
    "async def openWidnows():\n",
    "    print(\"opening the kitchen windows...\")\n",
    "    await asyncio.sleep(2)\n",
    "    print(\"opening windows completed...\")\n",
    "    return \"Open Window Completed!\""
   ]
  },
  {
   "cell_type": "markdown",
   "metadata": {},
   "source": [
    "now let's execute both tasks and record the overall time the system took to finish"
   ]
  },
  {
   "cell_type": "code",
   "execution_count": null,
   "metadata": {},
   "outputs": [
    {
     "name": "stdout",
     "output_type": "stream",
     "text": [
      "Dish washing machine started...\n",
      "opening the kitchen windows...\n",
      "opening windows completed...\n",
      "Dish washing machine finished\n",
      "Total execution time is 4.00\n"
     ]
    }
   ],
   "source": [
    "\n",
    "import time\n",
    "async def main():\n",
    "    start_time = time.time()\n",
    "    \n",
    "    try:\n",
    "        coroutin_results =await  asyncio.gather(washDishes(), openWidnows(), return_exceptions=True)\n",
    "        dishes_status, windows_status = coroutin_results\n",
    "        end_time = time.time()\n",
    "        # calculate time diference to obtain the execution time\n",
    "        execution_time = end_time - start_time\n",
    "        print (f\"Total execution time is {execution_time:.2f}\")\n",
    "        \n",
    "    except Exception as e:\n",
    "        print(f\"Exception caught: {e}\")\n",
    "\n",
    "\n",
    "await main()"
   ]
  },
  {
   "cell_type": "markdown",
   "metadata": {},
   "source": [
    "the total time it took the system to execute both tasks is 4 seconds."
   ]
  },
  {
   "cell_type": "markdown",
   "metadata": {},
   "source": [
    "Note:\n",
    " await main() used instead of asyncio.run(main()) because Jupyter Notebooks has already an active event loop which prevents \n",
    " asyncio.run(main()) to run without run time error.\n",
    "\n",
    " Event Loop: \n",
    "    The core of asynchronous programming. It's a mechanism that runs and schedules tasks, switching between them when they are waiting (for example, waiting for a response from a database). The event loop allows the program to run multiple operations concurrently."
   ]
  }
 ],
 "metadata": {
  "kernelspec": {
   "display_name": "Python 3",
   "language": "python",
   "name": "python3"
  },
  "language_info": {
   "codemirror_mode": {
    "name": "ipython",
    "version": 3
   },
   "file_extension": ".py",
   "mimetype": "text/x-python",
   "name": "python",
   "nbconvert_exporter": "python",
   "pygments_lexer": "ipython3",
   "version": "3.12.1"
  }
 },
 "nbformat": 4,
 "nbformat_minor": 2
}
